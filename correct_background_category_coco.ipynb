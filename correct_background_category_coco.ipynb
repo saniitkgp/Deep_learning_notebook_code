{
 "cells": [
  {
   "cell_type": "code",
   "execution_count": 4,
   "id": "ca03cd39",
   "metadata": {},
   "outputs": [],
   "source": [
    "import json\n",
    "json_path =r\"D:\\temp_save\\sahi\\without_negative_frame\\training\\test_train.json\""
   ]
  },
  {
   "cell_type": "code",
   "execution_count": 5,
   "id": "e742c151",
   "metadata": {},
   "outputs": [
    {
     "name": "stdout",
     "output_type": "stream",
     "text": [
      "dict_keys(['annotations', 'categories', 'images'])\n"
     ]
    }
   ],
   "source": [
    "with open(json_path,'r') as file:\n",
    "    json_data = json.load(file)\n",
    "print(json_data.keys())"
   ]
  },
  {
   "cell_type": "code",
   "execution_count": 6,
   "id": "4e515518",
   "metadata": {},
   "outputs": [
    {
     "data": {
      "text/plain": [
       "[{'id': 0, 'name': 'mix_pile_wastepile', 'supercategory': None},\n",
       " {'id': 1, 'name': 'black_dirt_wastepile', 'supercategory': None},\n",
       " {'id': 2, 'name': 'black_dirt_mix_wastepile', 'supercategory': None}]"
      ]
     },
     "execution_count": 6,
     "metadata": {},
     "output_type": "execute_result"
    }
   ],
   "source": [
    "cat_dict = json_data[\"categories\"]\n",
    "cat_dict[0:3]"
   ]
  },
  {
   "cell_type": "code",
   "execution_count": 7,
   "id": "8b47459a",
   "metadata": {},
   "outputs": [],
   "source": [
    "cat_2_id,id_2_cat,total_id={},{},0\n",
    "for item in cat_dict:\n",
    "    cat_2_id[item[\"name\"]]=item[\"id\"]\n",
    "    id_2_cat[item[\"id\"]]=item[\"name\"]\n",
    "    total_id+=1\n",
    "    "
   ]
  },
  {
   "cell_type": "code",
   "execution_count": 10,
   "id": "7fccc75e",
   "metadata": {},
   "outputs": [
    {
     "name": "stdout",
     "output_type": "stream",
     "text": [
      "True\n"
     ]
    }
   ],
   "source": [
    "if  id_2_cat[0]!=\"background\":\n",
    "    print(\"True\")"
   ]
  },
  {
   "cell_type": "code",
   "execution_count": 38,
   "id": "7b4438c2",
   "metadata": {},
   "outputs": [],
   "source": [
    "def get_cat_cata(json_path):\n",
    "    import json\n",
    "    with open(json_path,'r') as file:\n",
    "        json_data = json.load(file)\n",
    "    print(\"json is loaded : \",json_path)\n",
    "    print(\"keys : \",json_data.keys())\n",
    "    cat_2_id,id_2_cat={},{}\n",
    "    for item in json_data[\"categories\"]:\n",
    "        cat_2_id[item[\"name\"]]=item[\"id\"]\n",
    "        id_2_cat[item[\"id\"]]=item[\"name\"]\n",
    "        total_id+=1\n",
    "    return cat_2_id,id_2_cat"
   ]
  },
  {
   "cell_type": "code",
   "execution_count": null,
   "id": "f5c3fe6c",
   "metadata": {},
   "outputs": [],
   "source": [
    "{\"check_id\":0,\"check_name\":\"background\",}"
   ]
  },
  {
   "cell_type": "code",
   "execution_count": 12,
   "id": "5a71330b",
   "metadata": {},
   "outputs": [
    {
     "name": "stdout",
     "output_type": "stream",
     "text": [
      "0\n",
      "1\n",
      "2\n",
      "3\n",
      "4\n",
      "5\n"
     ]
    }
   ],
   "source": [
    "for i in range(10):\n",
    "    if i==6:\n",
    "        if i%6==0:\n",
    "            break\n",
    "    print(i)"
   ]
  },
  {
   "cell_type": "code",
   "execution_count": 32,
   "id": "7e290376",
   "metadata": {},
   "outputs": [],
   "source": [
    "def correct_cat_coco(json_path,save=False,cat_id=0,cat_name=\"background\"):\n",
    "    import json\n",
    "    with open(json_path,'r') as file:\n",
    "        json_data = json.load(file)\n",
    "    print(\"json is loaded : \",json_path)\n",
    "    print(\"keys : \",json_data.keys())\n",
    "    temp=[]\n",
    "    count =0\n",
    "    for item in json_data[\"categories\"]:\n",
    "        count+=1\n",
    "        if item[\"id\"]==cat_id:\n",
    "            if item[\"name\"]!=cat_name:\n",
    "                print(\"item : \",item)\n",
    "                temp=item.copy()\n",
    "                item[\"name\"]=cat_name\n",
    "                print(\"item : \",item)\n",
    "    temp[\"id\"]=count\n",
    "    print(\"temp : \",temp)\n",
    "    json_data[\"categories\"].append(temp)\n",
    "    for item in json_data[\"annotations\"]:\n",
    "        if item[\"category_id\"]==cat_id:\n",
    "            item[\"category_id\"]=count\n",
    "    if save:\n",
    "        json_path =json_path.replace(\".json\",\"_background_correct.json\")\n",
    "        with open(json_path,'w') as file:\n",
    "            json.dump(json_data,file)\n",
    "        return\n",
    "    return json_data\n",
    "    \n",
    "    "
   ]
  },
  {
   "cell_type": "code",
   "execution_count": 34,
   "id": "a0f8dc12",
   "metadata": {},
   "outputs": [
    {
     "name": "stdout",
     "output_type": "stream",
     "text": [
      "json is loaded :  D:\\temp_save\\sahi\\without_negative_frame\\training\\test.json\n",
      "keys :  dict_keys(['annotations', 'categories', 'images'])\n",
      "item :  {'id': 0, 'name': 'mix_pile_wastepile', 'supercategory': None}\n",
      "item :  {'id': 0, 'name': 'background', 'supercategory': None}\n",
      "temp :  {'id': 13, 'name': 'mix_pile_wastepile', 'supercategory': None}\n"
     ]
    }
   ],
   "source": [
    "correct_cat_coco(r\"D:\\temp_save\\sahi\\without_negative_frame\\training\\test.json\",save=True)"
   ]
  },
  {
   "cell_type": "code",
   "execution_count": 37,
   "id": "0810ce58",
   "metadata": {},
   "outputs": [],
   "source": [
    "with open(r\"D:\\temp_save\\sahi\\without_negative_frame\\training\\train_background_correct.json\",'r') as file:\n",
    "    json_data=json.load(file)"
   ]
  },
  {
   "cell_type": "code",
   "execution_count": 41,
   "id": "43ce47fd",
   "metadata": {},
   "outputs": [],
   "source": [
    "def get_cat_cata(json_path):\n",
    "    import json\n",
    "    with open(json_path,'r') as file:\n",
    "        json_data = json.load(file)\n",
    "    print(\"json is loaded : \",json_path)\n",
    "    print(\"keys : \",json_data.keys())\n",
    "    cat_2_id,id_2_cat={},{}\n",
    "    for item in json_data[\"categories\"]:\n",
    "        cat_2_id[item[\"name\"]]=item[\"id\"]\n",
    "        id_2_cat[item[\"id\"]]=item[\"name\"]\n",
    "    return cat_2_id,id_2_cat"
   ]
  },
  {
   "cell_type": "code",
   "execution_count": 42,
   "id": "83d31ba9",
   "metadata": {},
   "outputs": [
    {
     "name": "stdout",
     "output_type": "stream",
     "text": [
      "json is loaded :  D:\\temp_save\\sahi\\without_negative_frame\\training\\train_background_correct.json\n",
      "keys :  dict_keys(['annotations', 'categories', 'images'])\n"
     ]
    }
   ],
   "source": [
    "cat_2_id,id_2_cat = get_cat_cata(r\"D:\\temp_save\\sahi\\without_negative_frame\\training\\train_background_correct.json\")"
   ]
  },
  {
   "cell_type": "code",
   "execution_count": 47,
   "id": "050a7e6f",
   "metadata": {},
   "outputs": [
    {
     "name": "stdout",
     "output_type": "stream",
     "text": [
      "['background', 'black_dirt_wastepile', 'black_dirt_mix_wastepile', 'rubble_wastepile', 'dirt_rubble_wastepile', 'structure_construction_wastepile', 'plastic_construction_wastepile', 'pipe_construction_wastepile', 'spred_mix_wastepile', 'mix_construction_wastepile', 'paper_wastepile', 'brown_wasteplie', 'brick_rubble_wastepile', 'mix_pile_wastepile']\n"
     ]
    }
   ],
   "source": [
    "print(list(cat_2_id.keys()))"
   ]
  },
  {
   "cell_type": "code",
   "execution_count": null,
   "id": "7e7c6653",
   "metadata": {},
   "outputs": [],
   "source": []
  },
  {
   "cell_type": "code",
   "execution_count": null,
   "id": "48ab68fe",
   "metadata": {},
   "outputs": [],
   "source": []
  }
 ],
 "metadata": {
  "kernelspec": {
   "display_name": "Python 3 (ipykernel)",
   "language": "python",
   "name": "python3"
  },
  "language_info": {
   "codemirror_mode": {
    "name": "ipython",
    "version": 3
   },
   "file_extension": ".py",
   "mimetype": "text/x-python",
   "name": "python",
   "nbconvert_exporter": "python",
   "pygments_lexer": "ipython3",
   "version": "3.9.12"
  },
  "varInspector": {
   "cols": {
    "lenName": 16,
    "lenType": 16,
    "lenVar": 40
   },
   "kernels_config": {
    "python": {
     "delete_cmd_postfix": "",
     "delete_cmd_prefix": "del ",
     "library": "var_list.py",
     "varRefreshCmd": "print(var_dic_list())"
    },
    "r": {
     "delete_cmd_postfix": ") ",
     "delete_cmd_prefix": "rm(",
     "library": "var_list.r",
     "varRefreshCmd": "cat(var_dic_list()) "
    }
   },
   "types_to_exclude": [
    "module",
    "function",
    "builtin_function_or_method",
    "instance",
    "_Feature"
   ],
   "window_display": false
  }
 },
 "nbformat": 4,
 "nbformat_minor": 5
}
